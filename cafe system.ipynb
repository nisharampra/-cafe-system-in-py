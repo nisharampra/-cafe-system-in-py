{
 "cells": [
  {
   "cell_type": "code",
   "execution_count": null,
   "id": "ebb1137e",
   "metadata": {},
   "outputs": [
    {
     "name": "stdout",
     "output_type": "stream",
     "text": [
      "Restaurant Order System\n",
      "1. Take an order\n",
      "2. Display all orders\n",
      "3. Exit\n"
     ]
    }
   ],
   "source": [
    "class RestaurantOrderSystem:\n",
    "    def __init__(self):\n",
    "        self.orders = []\n",
    "\n",
    "    def take_order(self):\n",
    "        order = input(\"Enter the order: \")\n",
    "        self.orders.append(order)\n",
    "        print(\"Order taken successfully.\")\n",
    "\n",
    "    def display_orders(self):\n",
    "        print(\"Orders:\")\n",
    "        for idx, order in enumerate(self.orders, start=1):\n",
    "            print(f\"{idx}. {order}\")\n",
    "\n",
    "def main():\n",
    "    order_system = RestaurantOrderSystem()\n",
    "    choice = 0\n",
    "\n",
    "    while choice != 3:\n",
    "        print(\"Restaurant Order System\")\n",
    "        print(\"1. Take an order\")\n",
    "        print(\"2. Display all orders\")\n",
    "        print(\"3. Exit\")\n",
    "        choice = int(input(\"Enter your choice: \"))\n",
    "\n",
    "        if choice == 1:\n",
    "            order_system.take_order()\n",
    "\n",
    "        elif choice == 2:\n",
    "            order_system.display_orders()\n",
    "\n",
    "        elif choice == 3:\n",
    "            print(\"Exiting...\")\n",
    "            break\n",
    "\n",
    "        else:\n",
    "            print(\"Invalid input. Please enter a valid option.\")\n",
    "\n",
    "if __name__ == \"__main__\":\n",
    "    main()\n",
    "\n",
    "    "
   ]
  },
  {
   "cell_type": "code",
   "execution_count": 6,
   "id": "8425730c",
   "metadata": {},
   "outputs": [
    {
     "ename": "SyntaxError",
     "evalue": "invalid syntax (4101461263.py, line 1)",
     "output_type": "error",
     "traceback": [
      "\u001b[0;36m  Cell \u001b[0;32mIn[6], line 1\u001b[0;36m\u001b[0m\n\u001b[0;31m    while choice!=3;\u001b[0m\n\u001b[0m                   ^\u001b[0m\n\u001b[0;31mSyntaxError\u001b[0m\u001b[0;31m:\u001b[0m invalid syntax\n"
     ]
    }
   ],
   "source": [
    "\n",
    "\n"
   ]
  },
  {
   "cell_type": "code",
   "execution_count": null,
   "id": "1fb9f676",
   "metadata": {},
   "outputs": [],
   "source": []
  }
 ],
 "metadata": {
  "kernelspec": {
   "display_name": "Python 3 (ipykernel)",
   "language": "python",
   "name": "python3"
  },
  "language_info": {
   "codemirror_mode": {
    "name": "ipython",
    "version": 3
   },
   "file_extension": ".py",
   "mimetype": "text/x-python",
   "name": "python",
   "nbconvert_exporter": "python",
   "pygments_lexer": "ipython3",
   "version": "3.11.5"
  }
 },
 "nbformat": 4,
 "nbformat_minor": 5
}
